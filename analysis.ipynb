{
 "cells": [
  {
   "cell_type": "code",
   "execution_count": 1,
   "id": "ff10c4c9-6056-4c39-bbd6-120b92788ac7",
   "metadata": {},
   "outputs": [],
   "source": [
    "# this step is required on Windows to avoid memory leak during KMeans\n",
    "import os # dependency\n",
    "os.environ[\"OMP_NUM_THREADS\"] = \"1\""
   ]
  },
  {
   "cell_type": "code",
   "execution_count": 2,
   "id": "62598065-7643-470c-9a28-ec727716b096",
   "metadata": {},
   "outputs": [],
   "source": [
    "from sklearn.datasets import fetch_olivetti_faces # dependency"
   ]
  },
  {
   "cell_type": "code",
   "execution_count": 3,
   "id": "7ac3357f-e1ed-40f8-b94f-720db757af34",
   "metadata": {},
   "outputs": [
    {
     "name": "stdout",
     "output_type": "stream",
     "text": [
      ".. _olivetti_faces_dataset:\n",
      "\n",
      "The Olivetti faces dataset\n",
      "--------------------------\n",
      "\n",
      "`This dataset contains a set of face images`_ taken between April 1992 and\n",
      "April 1994 at AT&T Laboratories Cambridge. The\n",
      ":func:`sklearn.datasets.fetch_olivetti_faces` function is the data\n",
      "fetching / caching function that downloads the data\n",
      "archive from AT&T.\n",
      "\n",
      ".. _This dataset contains a set of face images: https://cam-orl.co.uk/facedatabase.html\n",
      "\n",
      "As described on the original website:\n",
      "\n",
      "    There are ten different images of each of 40 distinct subjects. For some\n",
      "    subjects, the images were taken at different times, varying the lighting,\n",
      "    facial expressions (open / closed eyes, smiling / not smiling) and facial\n",
      "    details (glasses / no glasses). All the images were taken against a dark\n",
      "    homogeneous background with the subjects in an upright, frontal position\n",
      "    (with tolerance for some side movement).\n",
      "\n",
      "**Data Set Characteristics:**\n",
      "\n",
      "=================   =====================\n",
      "Classes                                40\n",
      "Samples total                         400\n",
      "Dimensionality                       4096\n",
      "Features            real, between 0 and 1\n",
      "=================   =====================\n",
      "\n",
      "The image is quantized to 256 grey levels and stored as unsigned 8-bit\n",
      "integers; the loader will convert these to floating point values on the\n",
      "interval [0, 1], which are easier to work with for many algorithms.\n",
      "\n",
      "The \"target\" for this database is an integer from 0 to 39 indicating the\n",
      "identity of the person pictured; however, with only 10 examples per class, this\n",
      "relatively small dataset is more interesting from an unsupervised or\n",
      "semi-supervised perspective.\n",
      "\n",
      "The original dataset consisted of 92 x 112, while the version available here\n",
      "consists of 64x64 images.\n",
      "\n",
      "When using these images, please give credit to AT&T Laboratories Cambridge.\n",
      "\n"
     ]
    }
   ],
   "source": [
    "data = fetch_olivetti_faces()\n",
    "print(data.DESCR)"
   ]
  },
  {
   "cell_type": "code",
   "execution_count": 4,
   "id": "82db48df-7495-4f06-9a20-3063e1493fc1",
   "metadata": {},
   "outputs": [],
   "source": [
    "X = data.data\n",
    "y = data.target"
   ]
  },
  {
   "cell_type": "code",
   "execution_count": 5,
   "id": "984870f0-3c93-431e-81ac-b08c947e2b81",
   "metadata": {},
   "outputs": [
    {
     "name": "stdout",
     "output_type": "stream",
     "text": [
      "X shape:  (400, 4096)\n",
      "y shape:  (400,)\n"
     ]
    }
   ],
   "source": [
    "print(\"X shape: \", X.shape)\n",
    "print(\"y shape: \", y.shape)"
   ]
  },
  {
   "cell_type": "code",
   "execution_count": 6,
   "id": "e15f17ce-3d82-4d37-ba44-7c485d64e302",
   "metadata": {},
   "outputs": [],
   "source": [
    "# stratified sampling as there are only 10 instances per class\n",
    "from sklearn.model_selection import StratifiedShuffleSplit # dependency\n",
    "\n",
    "testSize = 0.2\n",
    "valSize = 0.3 # wrt the 70% of the dataset\n",
    "\n",
    "# train and test indexes\n",
    "dataTrainTest = StratifiedShuffleSplit(n_splits=1, test_size=testSize, random_state=42)\n",
    "trainIdx, testIdx = next(dataTrainTest.split(X, y))\n",
    "\n",
    "# split based on the indexes\n",
    "XtrainAndVal = X[trainIdx]\n",
    "ytrainAndVal = y[trainIdx]\n",
    "\n",
    "Xtest = X[testIdx]\n",
    "ytest = y[testIdx]\n",
    "\n",
    "# split the XtrainAnd Val into train and val\n",
    "dataTrainVal = StratifiedShuffleSplit(n_splits=1, test_size=valSize, random_state=42)\n",
    "trainIdx, valIdx = next(dataTrainVal.split(XtrainAndVal, ytrainAndVal))\n",
    "\n",
    "Xtrain = XtrainAndVal[trainIdx]\n",
    "ytrain = ytrainAndVal[trainIdx]\n",
    "\n",
    "Xval = XtrainAndVal[valIdx]\n",
    "yval = ytrainAndVal[valIdx]"
   ]
  },
  {
   "cell_type": "code",
   "execution_count": 7,
   "id": "eca8911d-9afd-48ef-aa10-b6c65932b31c",
   "metadata": {},
   "outputs": [
    {
     "name": "stdout",
     "output_type": "stream",
     "text": [
      "Train size: 224\n",
      "Val size:   96\n",
      "Test size:  80\n",
      "Total size: 400\n"
     ]
    }
   ],
   "source": [
    "print(\"Train size:\", len(Xtrain)) \n",
    "print(\"Val size:  \", len(Xval)) \n",
    "print(\"Test size: \", len(Xtest)) \n",
    "print(\"Total size:\", len(X)) "
   ]
  },
  {
   "cell_type": "code",
   "execution_count": 8,
   "id": "e3ec5474-5a50-4eed-8631-686cfd654b9f",
   "metadata": {},
   "outputs": [
    {
     "name": "stdout",
     "output_type": "stream",
     "text": [
      "Class\t% in train\t% in val\t% in test\n",
      "  0\t   2.68\t\t  2.08\t\t  2.50\n",
      "  1\t   2.68\t\t  2.08\t\t  2.50\n",
      "  2\t   2.23\t\t  3.12\t\t  2.50\n",
      "  3\t   2.23\t\t  3.12\t\t  2.50\n",
      "  4\t   2.68\t\t  2.08\t\t  2.50\n",
      "  5\t   2.68\t\t  2.08\t\t  2.50\n",
      "  6\t   2.68\t\t  2.08\t\t  2.50\n",
      "  7\t   2.23\t\t  3.12\t\t  2.50\n",
      "  8\t   2.68\t\t  2.08\t\t  2.50\n",
      "  9\t   2.68\t\t  2.08\t\t  2.50\n",
      " 10\t   2.23\t\t  3.12\t\t  2.50\n",
      " 11\t   2.68\t\t  2.08\t\t  2.50\n",
      " 12\t   2.68\t\t  2.08\t\t  2.50\n",
      " 13\t   2.68\t\t  2.08\t\t  2.50\n",
      " 14\t   2.23\t\t  3.12\t\t  2.50\n",
      " 15\t   2.68\t\t  2.08\t\t  2.50\n",
      " 16\t   2.68\t\t  2.08\t\t  2.50\n",
      " 17\t   2.68\t\t  2.08\t\t  2.50\n",
      " 18\t   2.23\t\t  3.12\t\t  2.50\n",
      " 19\t   2.68\t\t  2.08\t\t  2.50\n",
      " 20\t   2.23\t\t  3.12\t\t  2.50\n",
      " 21\t   2.23\t\t  3.12\t\t  2.50\n",
      " 22\t   2.23\t\t  3.12\t\t  2.50\n",
      " 23\t   2.23\t\t  3.12\t\t  2.50\n",
      " 24\t   2.68\t\t  2.08\t\t  2.50\n",
      " 25\t   2.68\t\t  2.08\t\t  2.50\n",
      " 26\t   2.68\t\t  2.08\t\t  2.50\n",
      " 27\t   2.68\t\t  2.08\t\t  2.50\n",
      " 28\t   2.23\t\t  3.12\t\t  2.50\n",
      " 29\t   2.68\t\t  2.08\t\t  2.50\n",
      " 30\t   2.23\t\t  3.12\t\t  2.50\n",
      " 31\t   2.68\t\t  2.08\t\t  2.50\n",
      " 32\t   2.23\t\t  3.12\t\t  2.50\n",
      " 33\t   2.68\t\t  2.08\t\t  2.50\n",
      " 34\t   2.68\t\t  2.08\t\t  2.50\n",
      " 35\t   2.23\t\t  3.12\t\t  2.50\n",
      " 36\t   2.23\t\t  3.12\t\t  2.50\n",
      " 37\t   2.68\t\t  2.08\t\t  2.50\n",
      " 38\t   2.23\t\t  3.12\t\t  2.50\n",
      " 39\t   2.68\t\t  2.08\t\t  2.50\n"
     ]
    }
   ],
   "source": [
    "# be sure that the splits are done correctly \n",
    "print(\"Class\\t% in train\\t% in val\\t% in test\")\n",
    "for i in range(40):\n",
    "    print(f\" {i:2d}\\t   {len(ytrain[ytrain == i]) / len(ytrain) * 100:.2f}\" + \n",
    "          f\"\\t\\t  {len(yval[yval == i]) / len(yval) * 100:.2f}\" + \n",
    "          f\"\\t\\t  {len(ytest[ytest == i]) / len(ytest) * 100:.2f}\")"
   ]
  },
  {
   "cell_type": "code",
   "execution_count": 58,
   "id": "efd7b532-c19c-44fd-98f2-666c4c98878a",
   "metadata": {},
   "outputs": [],
   "source": [
    "# the split seems good!\n",
    "# time to cluster\n",
    "\n",
    "from sklearn.cluster import KMeans # dependency\n",
    "\n",
    "# train for a different amount of clusters \n",
    "modelsByK = []\n",
    "ks = list(range(2, 153, 10))\n",
    "\n",
    "for k in ks:\n",
    "    model = KMeans(n_clusters=k, random_state=42, n_init=10)\n",
    "    model.fit(Xtrain)\n",
    "    modelsByK.append((k, model))"
   ]
  },
  {
   "cell_type": "code",
   "execution_count": 59,
   "id": "9c50b8b8-0651-44fb-b763-e5e6ff560cb2",
   "metadata": {},
   "outputs": [],
   "source": [
    "# get the silhouettes and intertias per k\n",
    "from sklearn.metrics import silhouette_score # dependency\n",
    "import numpy as np # dependency\n",
    "\n",
    "silhouettes = np.array([[k, silhouette_score(X=Xtrain, labels=model.labels_)]\n",
    "                        for k, model in modelsByK])\n",
    "inertias = np.array([[k, model.inertia_]\n",
    "                     for k, model in modelsByK])"
   ]
  },
  {
   "cell_type": "code",
   "execution_count": 60,
   "id": "315fa27c-cdd7-4f61-82c5-527419d0196b",
   "metadata": {},
   "outputs": [
    {
     "data": {
      "image/png": "[encoded data removed]",
      "text/plain": [
       "<Figure size 1200x800 with 2 Axes>"
      ]
     },
     "metadata": {},
     "output_type": "display_data"
    }
   ],
   "source": [
    "# plot the results\n",
    "import matplotlib.pyplot as plt\n",
    "plt.rc('axes', labelsize=14, titlesize=14)\n",
    "\n",
    "plt.figure(figsize=(12, 8))\n",
    "\n",
    "plt.subplot(211)\n",
    "plt.plot(silhouettes[:, 0], silhouettes[:, 1], \"ko-\")\n",
    "plt.ylabel(\"Silhouettes\")\n",
    "\n",
    "plt.subplot(212)\n",
    "plt.plot(inertias[:, 0], inertias[:, 1], \"ko-\")\n",
    "plt.ylabel(\"Inertias\")\n",
    "\n",
    "plt.show();"
   ]
  },
  {
   "cell_type": "code",
   "execution_count": 61,
   "id": "9fcfa8cf-cd7e-4c74-b356-d5915c0bf934",
   "metadata": {},
   "outputs": [
    {
     "data": {
      "text/plain": [
       "array([92.        ,  0.20689197])"
      ]
     },
     "execution_count": 61,
     "metadata": {},
     "output_type": "execute_result"
    }
   ],
   "source": [
    "# the inertias are not useful as the plot doesn't show a significant elbow\n",
    "# from the silhouettes plot, we know that the best k is close to 90\n",
    "\n",
    "bestIndex = silhouettes[:, 1].argmax()\n",
    "silhouettes[bestIndex]"
   ]
  },
  {
   "cell_type": "code",
   "execution_count": 63,
   "id": "2b838f41-cb0f-471e-992a-dd1007d4058a",
   "metadata": {},
   "outputs": [
    {
     "data": {
      "text/plain": [
       "array([96.        ,  0.20985295])"
      ]
     },
     "execution_count": 63,
     "metadata": {},
     "output_type": "execute_result"
    }
   ],
   "source": [
    "# we can run the previous code again but now just focusing on k: 80 < k < 100\n",
    "# train for a different amount of clusters \n",
    "modelsByK = []\n",
    "ks = list(range(80, 100, 2))\n",
    "\n",
    "for k in ks:\n",
    "    model = KMeans(n_clusters=k, random_state=42, n_init=10)\n",
    "    model.fit(Xtrain)\n",
    "    modelsByK.append((k, model))\n",
    "\n",
    "silhouettes = np.array([[k, silhouette_score(X=Xtrain, labels=model.labels_)]\n",
    "                        for k, model in modelsByK])\n",
    "\n",
    "bestIndex = silhouettes[:, 1].argmax()\n",
    "silhouettes[bestIndex]"
   ]
  },
  {
   "cell_type": "code",
   "execution_count": 65,
   "id": "81ad2174-860b-4180-8086-0219cdac6f2a",
   "metadata": {},
   "outputs": [],
   "source": [
    "# usaremos k = 96 para el clustering"
   ]
  },
  {
   "cell_type": "code",
   "execution_count": null,
   "id": "c2fee9c2-012f-4c8c-89b7-c6da716c92ba",
   "metadata": {},
   "outputs": [],
   "source": []
  }
 ],
 "metadata": {
  "kernelspec": {
   "display_name": "Python 3 (ipykernel)",
   "language": "python",
   "name": "python3"
  },
  "language_info": {
   "codemirror_mode": {
    "name": "ipython",
    "version": 3
   },
   "file_extension": ".py",
   "mimetype": "text/x-python",
   "name": "python",
   "nbconvert_exporter": "python",
   "pygments_lexer": "ipython3",
   "version": "3.12.5"
  }
 },
 "nbformat": 4,
 "nbformat_minor": 5
}
